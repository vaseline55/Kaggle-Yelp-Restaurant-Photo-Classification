{
 "cells": [
  {
   "cell_type": "code",
   "execution_count": 137,
   "metadata": {},
   "outputs": [],
   "source": [
    "import numpy as np; np.random.seed(1040941203) # For reproducibility (+82-10-4094-1203)\n",
    "import pandas as pd"
   ]
  },
  {
   "cell_type": "code",
   "execution_count": 138,
   "metadata": {},
   "outputs": [],
   "source": [
    "\"\"\"\n",
    "    Step 3. Construct a classifier\n",
    "\"\"\"\n",
    "# Load manipulated data set\n",
    "train_df = pd.read_pickle(\"train_set.csv\")\n",
    "test_df  = pd.read_pickle(\"test_set.csv\")"
   ]
  },
  {
   "cell_type": "code",
   "execution_count": 140,
   "metadata": {},
   "outputs": [
    {
     "name": "stdout",
     "output_type": "stream",
     "text": [
      "X_train:  (1996, 2048)\n",
      "Y_train:  (1996,)\n",
      "X_test:  (10000, 2048)\n"
     ]
    }
   ],
   "source": [
    "# Function to make labels in the data frame into a list (i.e. 0 8 => [0, 8])\n",
    "def labels_to_list(labels): return list(map(int, labels.split()))\n",
    "\n",
    "# Process train & test set into an array format\n",
    "X_train = np.array([x for x in train_df['features']])\n",
    "Y_train = np.array([labels_to_list(y) for y in train_df['labels']])\n",
    "X_test = np.array([x for x in test_df['features']])\n",
    "\n",
    "# Check shape of array-format train & test set \n",
    "print(\"X_train: \", X_train.shape)\n",
    "print(\"Y_train: \", Y_train.shape)\n",
    "print(\"X_test: \", X_test.shape)"
   ]
  },
  {
   "cell_type": "code",
   "execution_count": 141,
   "metadata": {},
   "outputs": [],
   "source": [
    "# Load packages for splitting train & validation set, MLP classifier, 1-of-K encoder\n",
    "from sklearn.model_selection import train_test_split\n",
    "from sklearn.preprocessing import MultiLabelBinarizer\n",
    "from sklearn.neural_network import MLPClassifier\n",
    "\n",
    "# Package for estimating a time taken\n",
    "import time; t=time.time()"
   ]
  },
  {
   "cell_type": "code",
   "execution_count": 142,
   "metadata": {},
   "outputs": [
    {
     "name": "stdout",
     "output_type": "stream",
     "text": [
      "Time passed:  791.365 sec\n"
     ]
    }
   ],
   "source": [
    "# Convert list of labels to follow 1-of-K coding scheme\n",
    "one_of_K_encoder = MultiLabelBinarizer()\n",
    "Y_train_ = one_of_K_encoder.fit_transform(Y_train)\n",
    "\n",
    "# Split train set into 8:2 (train : validation)\n",
    "random_state = np.random.RandomState(1040941203)\n",
    "X_train_, X_test_, Y_train_, Y_test_ = train_test_split(X_train, Y_train_, test_size=0.2, random_state=random_state)\n",
    "\n",
    "# Train the SVM classifier\n",
    "classifier = MLPClassifier(solver='lbfgs', random_state=random_state, max_iter=300, hidden_layer_sizes=(1024,512,128,32,16,))\n",
    "classifier.fit(X_train_, Y_train_)\n",
    "\n",
    "# Predict labels using the trained model\n",
    "Y_predict = classifier.predict(X_test_)\n",
    "\n",
    "# Show spent time\n",
    "print(\"Time passed: \", \"{0:.3f}\".format(time.time() - t), \"sec\")"
   ]
  },
  {
   "cell_type": "code",
   "execution_count": 143,
   "metadata": {},
   "outputs": [
    {
     "name": "stdout",
     "output_type": "stream",
     "text": [
      "Samples of predicted labels (in binary matrix):\n",
      " [[0 1 1 0 0 1 1 0 0]\n",
      " [0 0 0 0 0 0 1 0 1]]\n",
      "\n",
      "Samples of predicted labels:\n",
      " [(1, 2, 5, 6), (6, 8)]\n"
     ]
    }
   ],
   "source": [
    "# Show some predicted values\n",
    "print(\"Samples of predicted labels (in 1-of-K coding scheme):\\n\", Y_predict[1:3])\n",
    "print(\"\\nSamples of corresponding predicted labels:\\n\", one_of_K_encoder.inverse_transform(Y_predict[1:3]))"
   ]
  },
  {
   "cell_type": "code",
   "execution_count": 144,
   "metadata": {},
   "outputs": [
    {
     "data": {
      "text/html": [
       "<div>\n",
       "<style scoped>\n",
       "    .dataframe tbody tr th:only-of-type {\n",
       "        vertical-align: middle;\n",
       "    }\n",
       "\n",
       "    .dataframe tbody tr th {\n",
       "        vertical-align: top;\n",
       "    }\n",
       "\n",
       "    .dataframe thead th {\n",
       "        text-align: right;\n",
       "    }\n",
       "</style>\n",
       "<table border=\"1\" class=\"dataframe\">\n",
       "  <thead>\n",
       "    <tr style=\"text-align: right;\">\n",
       "      <th></th>\n",
       "      <th>label 0</th>\n",
       "      <th>label 1</th>\n",
       "      <th>label 2</th>\n",
       "      <th>label 3</th>\n",
       "      <th>label 4</th>\n",
       "      <th>label 5</th>\n",
       "      <th>label 6</th>\n",
       "      <th>label 7</th>\n",
       "      <th>label 8</th>\n",
       "      <th>total_biz</th>\n",
       "    </tr>\n",
       "  </thead>\n",
       "  <tbody>\n",
       "    <tr>\n",
       "      <th>biz_count</th>\n",
       "      <td>115</td>\n",
       "      <td>211</td>\n",
       "      <td>216</td>\n",
       "      <td>225</td>\n",
       "      <td>121</td>\n",
       "      <td>266</td>\n",
       "      <td>284</td>\n",
       "      <td>145</td>\n",
       "      <td>239</td>\n",
       "      <td>400</td>\n",
       "    </tr>\n",
       "    <tr>\n",
       "      <th>biz_percentage</th>\n",
       "      <td>29%</td>\n",
       "      <td>53%</td>\n",
       "      <td>54%</td>\n",
       "      <td>56%</td>\n",
       "      <td>30%</td>\n",
       "      <td>66%</td>\n",
       "      <td>71%</td>\n",
       "      <td>36%</td>\n",
       "      <td>60%</td>\n",
       "      <td>100%</td>\n",
       "    </tr>\n",
       "  </tbody>\n",
       "</table>\n",
       "</div>"
      ],
      "text/plain": [
       "               label 0 label 1 label 2 label 3 label 4 label 5 label 6  \\\n",
       "biz_count          115     211     216     225     121     266     284   \n",
       "biz_percentage     29%     53%     54%     56%     30%     66%     71%   \n",
       "\n",
       "               label 7 label 8 total_biz  \n",
       "biz_count          145     239       400  \n",
       "biz_percentage     36%     60%      100%  "
      ]
     },
     "execution_count": 144,
     "metadata": {},
     "output_type": "execute_result"
    }
   ],
   "source": [
    "# Construct a data frame to show ratio of each label in a predicted set\n",
    "stat = pd.DataFrame(columns = ['label ' + str(i) for i in range(9)] + ['total_biz'], index = ['biz_count', 'biz_percentage'])\n",
    "\n",
    "stat.loc['biz_count'] = np.append(np.sum(Y_predict, axis=0), len(Y_predict))\n",
    "stat.loc['biz_percentage'] = stat.loc['biz_count'] * 100 / len(Y_predict) \n",
    "\n",
    "pd.options.display.float_format = '{:.0f}%'.format\n",
    "\n",
    "# Show the statistics\n",
    "stat"
   ]
  },
  {
   "cell_type": "code",
   "execution_count": 145,
   "metadata": {},
   "outputs": [
    {
     "name": "stdout",
     "output_type": "stream",
     "text": [
      "F1 score:  0.8350055741360088\n",
      "Individual Class F1 score:  [0.73251029 0.86057692 0.87906977 0.67599068 0.74074074 0.89393939\n",
      " 0.94096601 0.77655678 0.8608137 ]\n"
     ]
    }
   ],
   "source": [
    "from sklearn.metrics import f1_score # For measuring F1 score metrics\n",
    "\n",
    "# Show global F1 score & on-label F1 score\n",
    "print(\"Overall F1 score: \", f1_score(Y_test_, Y_predict, average='micro')) \n",
    "print(\"F1 score of each label : \", f1_score(Y_test, y_ppredict, average=None))"
   ]
  },
  {
   "cell_type": "code",
   "execution_count": 146,
   "metadata": {},
   "outputs": [
    {
     "name": "stdout",
     "output_type": "stream",
     "text": [
      "Time passed:  1229.1 sec\n"
     ]
    }
   ],
   "source": [
    "t = time.time()\n",
    "\n",
    "# Convert list of labels to follow 1-of-K coding scheme\n",
    "one_of_K_encoder = MultiLabelBinarizer()\n",
    "Y_train_ = one_of_K_encoder.fit_transform(Y_train)\n",
    "\n",
    "# Train the SVM classifier again with a full train set\n",
    "random_state = np.random.RandomState(0)\n",
    "classifier = MLPClassifier(solver='lbfgs', random_state=random_state, max_iter=300, hidden_layer_sizes=(1024,512,128,32,16,))\n",
    "classifier.fit(X_train, Y_train_)\n",
    "\n",
    "Y_predict = classifier.predict(X_test)\n",
    "Y_predict_label = one_of_K_encoder.inverse_transform(Y_predict)\n",
    "\n",
    "print(\"Time passed: \", \"{0:.1f}\".format(time.time() - t), \"sec\")"
   ]
  },
  {
   "cell_type": "code",
   "execution_count": 147,
   "metadata": {},
   "outputs": [
    {
     "data": {
      "text/html": [
       "<div>\n",
       "<style scoped>\n",
       "    .dataframe tbody tr th:only-of-type {\n",
       "        vertical-align: middle;\n",
       "    }\n",
       "\n",
       "    .dataframe tbody tr th {\n",
       "        vertical-align: top;\n",
       "    }\n",
       "\n",
       "    .dataframe thead th {\n",
       "        text-align: right;\n",
       "    }\n",
       "</style>\n",
       "<table border=\"1\" class=\"dataframe\">\n",
       "  <thead>\n",
       "    <tr style=\"text-align: right;\">\n",
       "      <th></th>\n",
       "      <th>label 0</th>\n",
       "      <th>label 1</th>\n",
       "      <th>label 2</th>\n",
       "      <th>label 3</th>\n",
       "      <th>label 4</th>\n",
       "      <th>label 5</th>\n",
       "      <th>label 6</th>\n",
       "      <th>label 7</th>\n",
       "      <th>label 8</th>\n",
       "      <th>total_biz</th>\n",
       "    </tr>\n",
       "  </thead>\n",
       "  <tbody>\n",
       "    <tr>\n",
       "      <th>biz_count</th>\n",
       "      <td>1422</td>\n",
       "      <td>7933</td>\n",
       "      <td>8607</td>\n",
       "      <td>6562</td>\n",
       "      <td>2114</td>\n",
       "      <td>9136</td>\n",
       "      <td>9267</td>\n",
       "      <td>2465</td>\n",
       "      <td>4107</td>\n",
       "      <td>10000</td>\n",
       "    </tr>\n",
       "    <tr>\n",
       "      <th>biz_percentage</th>\n",
       "      <td>14%</td>\n",
       "      <td>79%</td>\n",
       "      <td>86%</td>\n",
       "      <td>66%</td>\n",
       "      <td>21%</td>\n",
       "      <td>91%</td>\n",
       "      <td>93%</td>\n",
       "      <td>25%</td>\n",
       "      <td>41%</td>\n",
       "      <td>100%</td>\n",
       "    </tr>\n",
       "  </tbody>\n",
       "</table>\n",
       "</div>"
      ],
      "text/plain": [
       "               label 0 label 1 label 2 label 3 label 4 label 5 label 6  \\\n",
       "biz_count         1422    7933    8607    6562    2114    9136    9267   \n",
       "biz_percentage     14%     79%     86%     66%     21%     91%     93%   \n",
       "\n",
       "               label 7 label 8 total_biz  \n",
       "biz_count         2465    4107     10000  \n",
       "biz_percentage     25%     41%      100%  "
      ]
     },
     "execution_count": 147,
     "metadata": {},
     "output_type": "execute_result"
    }
   ],
   "source": [
    "# Construct a data frame to show ratio of each label in a predicted set\n",
    "stat = pd.DataFrame(columns=['label ' + str(i) for i in range(9)] + ['total_biz'], index = ['biz_count', 'biz_percentage'])\n",
    "\n",
    "stat.loc['biz_count'] = np.append(np.sum(Y_predict, axis=0), len(Y_predict))\n",
    "stat.loc['biz_percentage'] = stat.loc[\"biz_count\"] * 100 / len(Y_predict)\n",
    "\n",
    "pd.options.display.float_format = '{:.0f}%'.format\n",
    "\n",
    "stat"
   ]
  },
  {
   "cell_type": "code",
   "execution_count": 148,
   "metadata": {},
   "outputs": [],
   "source": [
    "# Construct a data frame for submission (matching predicted label with business id in a test set)\n",
    "final_df = pd.DataFrame(columns=['business_id','labels'])\n",
    "\n",
    "for i in range(len(test_df)):\n",
    "    biz = test_df.loc[i]['business_id']\n",
    "    label = Y_predict_label[i]\n",
    "    label = str(label)[1:-1].replace(\",\", \" \")\n",
    "    \n",
    "    final_df.loc[i] = [str(biz), label]\n",
    "\n",
    "# Write a submission file\n",
    "with open(\"submission_Seokju_Hahn_MLP.csv\",'w') as file:\n",
    "    final_df.to_csv(file, index=False)"
   ]
  }
 ],
 "metadata": {
  "kernelspec": {
   "display_name": "Python 3",
   "language": "python",
   "name": "python3"
  },
  "language_info": {
   "codemirror_mode": {
    "name": "ipython",
    "version": 3
   },
   "file_extension": ".py",
   "mimetype": "text/x-python",
   "name": "python",
   "nbconvert_exporter": "python",
   "pygments_lexer": "ipython3",
   "version": "3.6.3"
  }
 },
 "nbformat": 4,
 "nbformat_minor": 2
}
