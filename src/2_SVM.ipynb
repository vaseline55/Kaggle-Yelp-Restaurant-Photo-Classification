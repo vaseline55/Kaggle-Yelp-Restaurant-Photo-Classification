{
 "cells": [
  {
   "cell_type": "code",
   "execution_count": 1,
   "metadata": {},
   "outputs": [],
   "source": [
    "import numpy as np; np.random.seed(1040941203) # For reproducibility (+82-10-4094-1203)\n",
    "import pandas as pd"
   ]
  },
  {
   "cell_type": "code",
   "execution_count": 2,
   "metadata": {},
   "outputs": [],
   "source": [
    "\"\"\"\n",
    "    Step 3. Construct a classifier\n",
    "\"\"\"\n",
    "# Load manipulated data set\n",
    "train_df = pd.read_pickle(\"train_set.csv\")\n",
    "test_df  = pd.read_pickle(\"test_set.csv\")"
   ]
  },
  {
   "cell_type": "code",
   "execution_count": 3,
   "metadata": {},
   "outputs": [
    {
     "data": {
      "text/html": [
       "<div>\n",
       "<style scoped>\n",
       "    .dataframe tbody tr th:only-of-type {\n",
       "        vertical-align: middle;\n",
       "    }\n",
       "\n",
       "    .dataframe tbody tr th {\n",
       "        vertical-align: top;\n",
       "    }\n",
       "\n",
       "    .dataframe thead th {\n",
       "        text-align: right;\n",
       "    }\n",
       "</style>\n",
       "<table border=\"1\" class=\"dataframe\">\n",
       "  <thead>\n",
       "    <tr style=\"text-align: right;\">\n",
       "      <th></th>\n",
       "      <th>business_id</th>\n",
       "      <th>features</th>\n",
       "      <th>labels</th>\n",
       "    </tr>\n",
       "  </thead>\n",
       "  <tbody>\n",
       "    <tr>\n",
       "      <th>0</th>\n",
       "      <td>3</td>\n",
       "      <td>[0.17828523, 0.56636906, 1.39566, 0.34984797, ...</td>\n",
       "      <td>0 8</td>\n",
       "    </tr>\n",
       "    <tr>\n",
       "      <th>1</th>\n",
       "      <td>4</td>\n",
       "      <td>[0.2780744, 0.43836534, 1.6742295, 0.36407334,...</td>\n",
       "      <td>1 2 4 5 6</td>\n",
       "    </tr>\n",
       "    <tr>\n",
       "      <th>2</th>\n",
       "      <td>5</td>\n",
       "      <td>[0.52646494, 0.5042465, 2.1981008, 0.5013659, ...</td>\n",
       "      <td>1 2 4 5 6 7</td>\n",
       "    </tr>\n",
       "    <tr>\n",
       "      <th>3</th>\n",
       "      <td>6</td>\n",
       "      <td>[0.2510131, 0.3978268, 2.6302445, 0.19584215, ...</td>\n",
       "      <td>0 1 6 8</td>\n",
       "    </tr>\n",
       "    <tr>\n",
       "      <th>4</th>\n",
       "      <td>7</td>\n",
       "      <td>[0.15473817, 0.5289381, 1.585744, 0.45722356, ...</td>\n",
       "      <td>0 1 8</td>\n",
       "    </tr>\n",
       "  </tbody>\n",
       "</table>\n",
       "</div>"
      ],
      "text/plain": [
       "   business_id                                           features       labels\n",
       "0            3  [0.17828523, 0.56636906, 1.39566, 0.34984797, ...          0 8\n",
       "1            4  [0.2780744, 0.43836534, 1.6742295, 0.36407334,...    1 2 4 5 6\n",
       "2            5  [0.52646494, 0.5042465, 2.1981008, 0.5013659, ...  1 2 4 5 6 7\n",
       "3            6  [0.2510131, 0.3978268, 2.6302445, 0.19584215, ...      0 1 6 8\n",
       "4            7  [0.15473817, 0.5289381, 1.585744, 0.45722356, ...        0 1 8"
      ]
     },
     "execution_count": 3,
     "metadata": {},
     "output_type": "execute_result"
    }
   ],
   "source": [
    "# Check if the data frame is loaded normally\n",
    "train_df.head()"
   ]
  },
  {
   "cell_type": "code",
   "execution_count": 4,
   "metadata": {},
   "outputs": [
    {
     "name": "stdout",
     "output_type": "stream",
     "text": [
      "X_train:  (1996, 2048)\n",
      "Y_train:  (1996,)\n",
      "X_test:  (10000, 2048)\n"
     ]
    }
   ],
   "source": [
    "# Function to make labels in the data frame into a list (i.e. 0 8 => [0, 8])\n",
    "def labels_to_list(labels): return list(map(int, labels.split()))\n",
    "\n",
    "# Process train & test set into an array format\n",
    "X_train = np.array([x for x in train_df['features']])\n",
    "Y_train = np.array([labels_to_list(y) for y in train_df['labels']])\n",
    "X_test = np.array([x for x in test_df['features']])\n",
    "\n",
    "# Check shape of array-format train & test set \n",
    "print(\"X_train: \", X_train.shape)\n",
    "print(\"Y_train: \", Y_train.shape)\n",
    "print(\"X_test: \", X_test.shape)"
   ]
  },
  {
   "cell_type": "code",
   "execution_count": 6,
   "metadata": {},
   "outputs": [],
   "source": [
    "# Load packages for splitting train & validation set, SVM classifier, 1-of-K encoder\n",
    "from sklearn import svm\n",
    "from sklearn.model_selection import train_test_split\n",
    "from sklearn.multiclass import OneVsRestClassifier\n",
    "from sklearn.preprocessing import MultiLabelBinarizer\n",
    "\n",
    "# Package for estimating a time taken\n",
    "import time; t=time.time()"
   ]
  },
  {
   "cell_type": "code",
   "execution_count": 7,
   "metadata": {},
   "outputs": [
    {
     "name": "stdout",
     "output_type": "stream",
     "text": [
      "Time passed:  171.864 sec\n"
     ]
    }
   ],
   "source": [
    "# Convert list of labels to follow 1-of-K coding scheme\n",
    "one_of_K_encoder = MultiLabelBinarizer()\n",
    "Y_train_ = one_of_K_encoder.fit_transform(Y_train)\n",
    "\n",
    "# Split train set into 8:2 (train : validation)\n",
    "random_state = np.random.RandomState(1040941203)\n",
    "X_train_, X_test_, Y_train_, Y_test_ = train_test_split(X_train, Y_train_, test_size=0.2, random_state=random_state)\n",
    "\n",
    "# Train the SVM classifier\n",
    "classifier = OneVsRestClassifier(svm.SVC(kernel='rbf', probability=True))\n",
    "classifier.fit(X_train_, Y_train_)\n",
    "\n",
    "# Predict labels using the trained model\n",
    "Y_predict = classifier.predict(X_test_)\n",
    "\n",
    "# Show spent time\n",
    "print(\"Time passed: \", \"{0:.3f}\".format(time.time() - t), \"sec\")"
   ]
  },
  {
   "cell_type": "code",
   "execution_count": 8,
   "metadata": {},
   "outputs": [
    {
     "name": "stdout",
     "output_type": "stream",
     "text": [
      "Samples of predicted labels (in binary matrix):\n",
      " [[1 0 0 1 0 0 0 0 1]\n",
      " [0 0 0 1 0 1 1 0 1]]\n",
      "\n",
      "Samples of predicted labels:\n",
      " [(0, 3, 8), (3, 5, 6, 8)]\n"
     ]
    }
   ],
   "source": [
    "# Show some predicted values\n",
    "print(\"Samples of predicted labels (in 1-of-K coding scheme):\\n\", Y_predict[1:3])\n",
    "print(\"\\nSamples of corresponding predicted labels:\\n\", one_of_K_encoder.inverse_transform(Y_predict[1:3]))"
   ]
  },
  {
   "cell_type": "code",
   "execution_count": 9,
   "metadata": {},
   "outputs": [
    {
     "data": {
      "text/html": [
       "<div>\n",
       "<style scoped>\n",
       "    .dataframe tbody tr th:only-of-type {\n",
       "        vertical-align: middle;\n",
       "    }\n",
       "\n",
       "    .dataframe tbody tr th {\n",
       "        vertical-align: top;\n",
       "    }\n",
       "\n",
       "    .dataframe thead th {\n",
       "        text-align: right;\n",
       "    }\n",
       "</style>\n",
       "<table border=\"1\" class=\"dataframe\">\n",
       "  <thead>\n",
       "    <tr style=\"text-align: right;\">\n",
       "      <th></th>\n",
       "      <th>label 0</th>\n",
       "      <th>label 1</th>\n",
       "      <th>label 2</th>\n",
       "      <th>label 3</th>\n",
       "      <th>label 4</th>\n",
       "      <th>label 5</th>\n",
       "      <th>label 6</th>\n",
       "      <th>label 7</th>\n",
       "      <th>label 8</th>\n",
       "      <th>total_biz</th>\n",
       "    </tr>\n",
       "  </thead>\n",
       "  <tbody>\n",
       "    <tr>\n",
       "      <th>biz_count</th>\n",
       "      <td>109</td>\n",
       "      <td>186</td>\n",
       "      <td>200</td>\n",
       "      <td>156</td>\n",
       "      <td>97</td>\n",
       "      <td>247</td>\n",
       "      <td>291</td>\n",
       "      <td>106</td>\n",
       "      <td>247</td>\n",
       "      <td>400</td>\n",
       "    </tr>\n",
       "    <tr>\n",
       "      <th>biz_percentage</th>\n",
       "      <td>27%</td>\n",
       "      <td>46%</td>\n",
       "      <td>50%</td>\n",
       "      <td>39%</td>\n",
       "      <td>24%</td>\n",
       "      <td>62%</td>\n",
       "      <td>73%</td>\n",
       "      <td>26%</td>\n",
       "      <td>62%</td>\n",
       "      <td>100%</td>\n",
       "    </tr>\n",
       "  </tbody>\n",
       "</table>\n",
       "</div>"
      ],
      "text/plain": [
       "               label 0 label 1 label 2 label 3 label 4 label 5 label 6  \\\n",
       "biz_count          109     186     200     156      97     247     291   \n",
       "biz_percentage     27%     46%     50%     39%     24%     62%     73%   \n",
       "\n",
       "               label 7 label 8 total_biz  \n",
       "biz_count          106     247       400  \n",
       "biz_percentage     26%     62%      100%  "
      ]
     },
     "execution_count": 9,
     "metadata": {},
     "output_type": "execute_result"
    }
   ],
   "source": [
    "# Construct a data frame to show ratio of each label in a predicted set\n",
    "stat = pd.DataFrame(columns = ['label ' + str(i) for i in range(9)] + ['total_biz'], index = ['biz_count', 'biz_percentage'])\n",
    "\n",
    "stat.loc['biz_count'] = np.append(np.sum(Y_predict, axis=0), len(Y_predict))\n",
    "stat.loc['biz_percentage'] = stat.loc['biz_count'] * 100 / len(Y_predict) \n",
    "\n",
    "pd.options.display.float_format = '{:.0f}%'.format\n",
    "\n",
    "# Show the statistics\n",
    "stat"
   ]
  },
  {
   "cell_type": "code",
   "execution_count": 10,
   "metadata": {},
   "outputs": [
    {
     "name": "stdout",
     "output_type": "stream",
     "text": [
      "F1 score:  0.8059084194977845\n",
      "Individual Class F1 score:  [0.6446281  0.79283887 0.86699507 0.58536585 0.74509804 0.8990099\n",
      " 0.91489362 0.69158879 0.86530612]\n"
     ]
    }
   ],
   "source": [
    "from sklearn.metrics import f1_score # For measuring F1 score metrics\n",
    "\n",
    "# Show global F1 score & on-label F1 score\n",
    "print(\"Overall F1 score: \", f1_score(Y_test_, Y_predict, average='micro')) \n",
    "print(\"F1 score of each label : \", f1_score(Y_test, y_ppredict, average=None))"
   ]
  },
  {
   "cell_type": "code",
   "execution_count": 11,
   "metadata": {},
   "outputs": [
    {
     "name": "stdout",
     "output_type": "stream",
     "text": [
      "Time passed:  486.2 sec\n"
     ]
    }
   ],
   "source": [
    "t = time.time()\n",
    "\n",
    "# Convert list of labels to follow 1-of-K coding scheme\n",
    "one_of_K_encoder = MultiLabelBinarizer()\n",
    "Y_train_ = one_of_K_encoder.fit_transform(Y_train)\n",
    "\n",
    "# Train the SVM classifier again with a full train set\n",
    "random_state = np.random.RandomState(0)\n",
    "classifier = OneVsRestClassifier(svm.SVC(kernel='rbf', probability=True))\n",
    "classifier.fit(X_train, Y_train_)\n",
    "\n",
    "Y_predict = classifier.predict(X_test)\n",
    "Y_predict_label = one_of_K_encoder.inverse_transform(Y_predict)\n",
    "\n",
    "print(\"Time passed: \", \"{0:.1f}\".format(time.time() - t), \"sec\")"
   ]
  },
  {
   "cell_type": "code",
   "execution_count": 12,
   "metadata": {},
   "outputs": [
    {
     "data": {
      "text/html": [
       "<div>\n",
       "<style scoped>\n",
       "    .dataframe tbody tr th:only-of-type {\n",
       "        vertical-align: middle;\n",
       "    }\n",
       "\n",
       "    .dataframe tbody tr th {\n",
       "        vertical-align: top;\n",
       "    }\n",
       "\n",
       "    .dataframe thead th {\n",
       "        text-align: right;\n",
       "    }\n",
       "</style>\n",
       "<table border=\"1\" class=\"dataframe\">\n",
       "  <thead>\n",
       "    <tr style=\"text-align: right;\">\n",
       "      <th></th>\n",
       "      <th>label 0</th>\n",
       "      <th>label 1</th>\n",
       "      <th>label 2</th>\n",
       "      <th>label 3</th>\n",
       "      <th>label 4</th>\n",
       "      <th>label 5</th>\n",
       "      <th>label 6</th>\n",
       "      <th>label 7</th>\n",
       "      <th>label 8</th>\n",
       "      <th>total_biz</th>\n",
       "    </tr>\n",
       "  </thead>\n",
       "  <tbody>\n",
       "    <tr>\n",
       "      <th>biz_count</th>\n",
       "      <td>562</td>\n",
       "      <td>8086</td>\n",
       "      <td>8452</td>\n",
       "      <td>4278</td>\n",
       "      <td>891</td>\n",
       "      <td>9088</td>\n",
       "      <td>9408</td>\n",
       "      <td>970</td>\n",
       "      <td>6493</td>\n",
       "      <td>10000</td>\n",
       "    </tr>\n",
       "    <tr>\n",
       "      <th>biz_percentage</th>\n",
       "      <td>6%</td>\n",
       "      <td>81%</td>\n",
       "      <td>85%</td>\n",
       "      <td>43%</td>\n",
       "      <td>9%</td>\n",
       "      <td>91%</td>\n",
       "      <td>94%</td>\n",
       "      <td>10%</td>\n",
       "      <td>65%</td>\n",
       "      <td>100%</td>\n",
       "    </tr>\n",
       "  </tbody>\n",
       "</table>\n",
       "</div>"
      ],
      "text/plain": [
       "               label 0 label 1 label 2 label 3 label 4 label 5 label 6  \\\n",
       "biz_count          562    8086    8452    4278     891    9088    9408   \n",
       "biz_percentage      6%     81%     85%     43%      9%     91%     94%   \n",
       "\n",
       "               label 7 label 8 total_biz  \n",
       "biz_count          970    6493     10000  \n",
       "biz_percentage     10%     65%      100%  "
      ]
     },
     "execution_count": 12,
     "metadata": {},
     "output_type": "execute_result"
    }
   ],
   "source": [
    "# Construct a data frame to show ratio of each label in a predicted set\n",
    "stat = pd.DataFrame(columns=['label ' + str(i) for i in range(9)] + ['total_biz'], index = ['biz_count', 'biz_percentage'])\n",
    "\n",
    "stat.loc['biz_count'] = np.append(np.sum(Y_predict, axis=0), len(Y_predict))\n",
    "stat.loc['biz_percentage'] = stat.loc[\"biz_count\"] * 100 / len(Y_predict)\n",
    "\n",
    "pd.options.display.float_format = '{:.0f}%'.format\n",
    "\n",
    "stat"
   ]
  },
  {
   "cell_type": "code",
   "execution_count": 13,
   "metadata": {},
   "outputs": [],
   "source": [
    "# Construct a data frame for submission (matching predicted label with business id in a test set)\n",
    "final_df = pd.DataFrame(columns=['business_id','labels'])\n",
    "\n",
    "for i in range(len(test_df)):\n",
    "    biz = test_df.loc[i]['business_id']\n",
    "    label = Y_predict_label[i]\n",
    "    label = str(label)[1:-1].replace(\",\", \" \")\n",
    "    \n",
    "    final_df.loc[i] = [str(biz), label]\n",
    "\n",
    "# Write a submission file\n",
    "with open(\"submission_Seokju_Hahn_SVM.csv\",'w') as file:\n",
    "    final_df.to_csv(file, index=False)"
   ]
  }
 ],
 "metadata": {
  "kernelspec": {
   "display_name": "Python 3",
   "language": "python",
   "name": "python3"
  },
  "language_info": {
   "codemirror_mode": {
    "name": "ipython",
    "version": 3
   },
   "file_extension": ".py",
   "mimetype": "text/x-python",
   "name": "python",
   "nbconvert_exporter": "python",
   "pygments_lexer": "ipython3",
   "version": "3.6.3"
  }
 },
 "nbformat": 4,
 "nbformat_minor": 2
}
